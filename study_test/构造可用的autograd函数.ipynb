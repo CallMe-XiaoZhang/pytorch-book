{
 "cells": [
  {
   "metadata": {},
   "cell_type": "markdown",
   "source": [
    "- **自定义的Function需要继承autograd.Function**\n",
    "- **使用Function.apply(tensor)调用新实现的Function。**"
   ],
   "id": "4c98f273e3d90f8e"
  },
  {
   "cell_type": "code",
   "execution_count": null,
   "id": "initial_id",
   "metadata": {
    "collapsed": true
   },
   "outputs": [],
   "source": [
    "#import\n",
    "import torch as t\n",
    "from torch.autograd import Function"
   ]
  },
  {
   "metadata": {},
   "cell_type": "markdown",
   "source": "",
   "id": "c0b57e5463f96c63"
  },
  {
   "metadata": {},
   "cell_type": "code",
   "outputs": [],
   "execution_count": null,
   "source": [
    "class MultiplyAdd(Function):\n",
    "\n",
    "    @staticmethod\n",
    "    #前向传播\n",
    "    def forward(ctx, w, x, b):\n",
    "        ctx.save_for_backward(w, x)  # 记录中间值\n",
    "        output = w * x + b # 前向传播的函数\n",
    "        return output\n",
    "\n",
    "    @staticmethod\n",
    "    #反向传播\n",
    "    def backward(ctx, grad_output):\n",
    "        w, x = ctx.saved_tensors  # 取出中间值\n",
    "        grad_w = grad_output * x\n",
    "        grad_x = grad_output * w\n",
    "        grad_b = grad_output * 1\n",
    "        return grad_w, grad_x, grad_b"
   ],
   "id": "f28564ef76946600"
  }
 ],
 "metadata": {
  "kernelspec": {
   "display_name": "Python 3",
   "language": "python",
   "name": "python3"
  },
  "language_info": {
   "codemirror_mode": {
    "name": "ipython",
    "version": 2
   },
   "file_extension": ".py",
   "mimetype": "text/x-python",
   "name": "python",
   "nbconvert_exporter": "python",
   "pygments_lexer": "ipython2",
   "version": "2.7.6"
  }
 },
 "nbformat": 4,
 "nbformat_minor": 5
}
